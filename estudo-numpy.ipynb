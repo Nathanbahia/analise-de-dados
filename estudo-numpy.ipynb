{
 "cells": [
  {
   "cell_type": "code",
   "execution_count": 53,
   "metadata": {},
   "outputs": [],
   "source": [
    "import numpy as np"
   ]
  },
  {
   "cell_type": "code",
   "execution_count": 54,
   "metadata": {},
   "outputs": [
    {
     "data": {
      "text/plain": [
       "[0, 1, 2, 3, 4, 5, 6, 7, 8, 9]"
      ]
     },
     "execution_count": 54,
     "metadata": {},
     "output_type": "execute_result"
    }
   ],
   "source": [
    "# Criar lista em Python\n",
    "\n",
    "minhaLista = list(range(10))\n",
    "minhaLista"
   ]
  },
  {
   "cell_type": "code",
   "execution_count": 55,
   "metadata": {},
   "outputs": [
    {
     "data": {
      "text/plain": [
       "array([0, 1, 2, 3, 4, 5, 6, 7, 8, 9])"
      ]
     },
     "execution_count": 55,
     "metadata": {},
     "output_type": "execute_result"
    }
   ],
   "source": [
    "# Converter lista Python para array NumPy\n",
    " \n",
    "arr = np.array(minhaLista)\n",
    "arr"
   ]
  },
  {
   "cell_type": "code",
   "execution_count": 56,
   "metadata": {},
   "outputs": [
    {
     "data": {
      "text/plain": [
       "array([0, 1, 2, 3, 4, 5, 6, 7, 8, 9])"
      ]
     },
     "execution_count": 56,
     "metadata": {},
     "output_type": "execute_result"
    }
   ],
   "source": [
    "# Criar arrays com NumPy\n",
    "\n",
    "\"\"\"A função arange funciona da mesma forma que a função range do Python\"\"\"\n",
    "\n",
    "arr = np.arange(10)\n",
    "arr"
   ]
  },
  {
   "cell_type": "code",
   "execution_count": 57,
   "metadata": {},
   "outputs": [
    {
     "data": {
      "text/plain": [
       "array([0., 0., 0., 0., 0.])"
      ]
     },
     "execution_count": 57,
     "metadata": {},
     "output_type": "execute_result"
    }
   ],
   "source": [
    "# Criar array preenchido com 0\n",
    "\n",
    "arr = np.zeros(5)\n",
    "arr"
   ]
  },
  {
   "cell_type": "code",
   "execution_count": 58,
   "metadata": {},
   "outputs": [
    {
     "data": {
      "text/plain": [
       "array([1., 1., 1., 1., 1.])"
      ]
     },
     "execution_count": 58,
     "metadata": {},
     "output_type": "execute_result"
    }
   ],
   "source": [
    "# Criar array preenchido com 1\n",
    "\n",
    "arr = np.ones(5)\n",
    "arr"
   ]
  },
  {
   "cell_type": "code",
   "execution_count": 59,
   "metadata": {},
   "outputs": [
    {
     "data": {
      "text/plain": [
       "array([63, 15, 57, 35, 39, 18, 66, 86, 83, 24])"
      ]
     },
     "execution_count": 59,
     "metadata": {},
     "output_type": "execute_result"
    }
   ],
   "source": [
    "# Números aleatórios inteiros em NumPy\n",
    "\n",
    "\"\"\"\n",
    "    Parâmetros:\n",
    "    1: Início do intervalo\n",
    "    2: Fim do intervalo\n",
    "    3: Quantidade de elementos\n",
    "\n",
    "\"\"\"\n",
    "\n",
    "arr = np.random.randint(0, 100, 10)\n",
    "arr"
   ]
  },
  {
   "cell_type": "code",
   "execution_count": 60,
   "metadata": {},
   "outputs": [
    {
     "data": {
      "text/plain": [
       "6.55"
      ]
     },
     "execution_count": 60,
     "metadata": {},
     "output_type": "execute_result"
    }
   ],
   "source": [
    "# Arredondamento\n",
    "\n",
    "\"\"\"\n",
    "    Parâmetros:\n",
    "    1: Número a ser arredondado\n",
    "    2: Quantidade de casa decimais\n",
    "\"\"\"\n",
    "\n",
    "num = np.round(6.54745, 2)\n",
    "num"
   ]
  },
  {
   "cell_type": "code",
   "execution_count": 61,
   "metadata": {},
   "outputs": [
    {
     "name": "stdout",
     "output_type": "stream",
     "text": [
      "(6,)\n",
      "[[2 0 0]\n",
      " [7 6 4]]\n",
      "(2, 3)\n"
     ]
    }
   ],
   "source": [
    "# Consultando e definindo estruturas dos arrays\n",
    "\n",
    "arr = np.random.randint(0, 10, 6)\n",
    "                        \n",
    "# Consulta:                         \n",
    "print(arr.shape)\n",
    "\n",
    "# Definição de matriz com duas linhas e três colunas\n",
    "arr.shape = (2,3)\n",
    "print(arr)\n",
    "print(arr.shape)\n"
   ]
  },
  {
   "cell_type": "code",
   "execution_count": 62,
   "metadata": {},
   "outputs": [
    {
     "name": "stdout",
     "output_type": "stream",
     "text": [
      "[3 9 0 4 7 3]\n",
      "9\n",
      "0\n",
      "1\n",
      "2\n"
     ]
    }
   ],
   "source": [
    "# Máximos e mínimos\n",
    "\n",
    "arr = np.random.randint(0, 10, 6)\n",
    "\n",
    "print(arr)\n",
    "print(arr.max())\n",
    "print(arr.min())\n",
    "\n",
    "# Indíces onde se encontram o maior e menor elemento respectivamente\n",
    "print(arr.argmax())\n",
    "print(arr.argmin())"
   ]
  },
  {
   "cell_type": "code",
   "execution_count": 63,
   "metadata": {},
   "outputs": [
    {
     "name": "stdout",
     "output_type": "stream",
     "text": [
      "[5 0 2 5 7 9]\n",
      "[5 0 2 5 7 9]\n"
     ]
    }
   ],
   "source": [
    "# Copiando arrays\n",
    "\n",
    "arr1 = np.random.randint(0, 10, 6)\n",
    "arr2 = arr1.copy()\n",
    "\n",
    "print(arr1)\n",
    "print(arr2)"
   ]
  },
  {
   "cell_type": "code",
   "execution_count": 64,
   "metadata": {},
   "outputs": [
    {
     "name": "stdout",
     "output_type": "stream",
     "text": [
      "Array original\n",
      "[ 0  1  2  3  4  5  6  7  8  9 10 11 12 13 14 15 16 17 18 19 20 21 22 23\n",
      " 24 25 26 27 28 29 30 31 32 33 34 35]\n",
      "\n",
      "Matriz 6x6\n",
      "[[ 0  1  2  3  4  5]\n",
      " [ 6  7  8  9 10 11]\n",
      " [12 13 14 15 16 17]\n",
      " [18 19 20 21 22 23]\n",
      " [24 25 26 27 28 29]\n",
      " [30 31 32 33 34 35]]\n",
      "\n",
      "Exibindo o primeiro elemento (primeira linha)\n",
      "[0 1 2 3 4 5]\n",
      "\n",
      "Buscando entre linhas e colunas (todos os primeiros elementos de todas as linhas)\n",
      "[ 0  6 12 18 24 30]\n"
     ]
    }
   ],
   "source": [
    "# Slices em arrays\n",
    "\n",
    "print(\"Array original\")\n",
    "arr = np.arange(36)\n",
    "print(arr)\n",
    "\n",
    "print(\"\\nMatriz 6x6\")\n",
    "arr.shape = 6, 6\n",
    "print(arr)\n",
    "\n",
    "print(\"\\nExibindo o primeiro elemento (primeira linha)\")\n",
    "print(arr[0])\n",
    "\n",
    "print(\"\\nBuscando entre linhas e colunas (todos os primeiros elementos de todas as linhas)\")\n",
    "print(arr[:, 0])"
   ]
  },
  {
   "cell_type": "code",
   "execution_count": 65,
   "metadata": {},
   "outputs": [
    {
     "name": "stdout",
     "output_type": "stream",
     "text": [
      "[[ 0  1  2  3  4  5]\n",
      " [ 6  7  8  9 10 11]\n",
      " [12 13 14 15 16 17]\n",
      " [18 19 20 21 22 23]\n",
      " [24 25 26 27 28 29]\n",
      " [30 31 32 33 34 35]]\n",
      "[[ True False  True False  True False]\n",
      " [ True False  True False  True False]\n",
      " [ True False  True False  True False]\n",
      " [ True False  True False  True False]\n",
      " [ True False  True False  True False]\n",
      " [ True False  True False  True False]]\n",
      "[ 0  2  4  6  8 10 12 14 16 18 20 22 24 26 28 30 32 34]\n"
     ]
    }
   ],
   "source": [
    "# Filtrar valores\n",
    "\n",
    "arr = np.arange(36)\n",
    "arr.shape = 6, 6\n",
    "print(arr)\n",
    "\n",
    "\"\"\"\n",
    "    Criando outra matriz contendo apenas boleanos para determinada condição. \n",
    "    Nesse caso, retornará True apenas os elementos pares\n",
    "\"\"\"\n",
    "\n",
    "arr2 = arr % 2 == 0\n",
    "print(arr2)\n",
    "\n",
    "# Filtrando os valores\n",
    "\n",
    "print(arr[arr2])"
   ]
  },
  {
   "cell_type": "code",
   "execution_count": 66,
   "metadata": {},
   "outputs": [
    {
     "name": "stdout",
     "output_type": "stream",
     "text": [
      "630\n"
     ]
    }
   ],
   "source": [
    "# Soma de arrays\n",
    "\n",
    "arr = np.arange(36)\n",
    "print(np.sum(arr))"
   ]
  },
  {
   "cell_type": "code",
   "execution_count": 67,
   "metadata": {},
   "outputs": [
    {
     "name": "stdout",
     "output_type": "stream",
     "text": [
      "10.388294694831615\n"
     ]
    }
   ],
   "source": [
    "# Desvio padrão de arrays\n",
    "\n",
    "arr = np.arange(36)\n",
    "print(np.std(arr))"
   ]
  },
  {
   "cell_type": "code",
   "execution_count": 68,
   "metadata": {},
   "outputs": [
    {
     "name": "stdout",
     "output_type": "stream",
     "text": [
      "[[ 0  1  2  3  4  5]\n",
      " [ 6  7  8  9 10 11]\n",
      " [12 13 14 15 16 17]\n",
      " [18 19 20 21 22 23]\n",
      " [24 25 26 27 28 29]\n",
      " [30 31 32 33 34 35]]\n",
      "[ 90  96 102 108 114 120]\n",
      "[ 15  51  87 123 159 195]\n"
     ]
    }
   ],
   "source": [
    "# Soma de linhas e colunas\n",
    "\n",
    "arr = np.arange(36)\n",
    "arr.shape = (6, 6)\n",
    "print(arr)\n",
    "\n",
    "# Soma de colunas\n",
    "\n",
    "print(arr.sum(axis=0))\n",
    "\n",
    "# Soma de linhas\n",
    "\n",
    "print(arr.sum(axis=1))\n"
   ]
  }
 ],
 "metadata": {
  "kernelspec": {
   "display_name": "Python 3",
   "language": "python",
   "name": "python3"
  },
  "language_info": {
   "codemirror_mode": {
    "name": "ipython",
    "version": 3
   },
   "file_extension": ".py",
   "mimetype": "text/x-python",
   "name": "python",
   "nbconvert_exporter": "python",
   "pygments_lexer": "ipython3",
   "version": "3.7.3"
  }
 },
 "nbformat": 4,
 "nbformat_minor": 4
}
