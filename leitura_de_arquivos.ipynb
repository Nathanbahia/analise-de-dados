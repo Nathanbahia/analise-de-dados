{
 "cells": [
  {
   "cell_type": "code",
   "execution_count": 1,
   "metadata": {},
   "outputs": [],
   "source": [
    "import pandas as pd\n",
    "import numpy as np\n",
    "from datetime import datetime"
   ]
  },
  {
   "cell_type": "code",
   "execution_count": 2,
   "metadata": {},
   "outputs": [],
   "source": [
    "dados = pd.read_csv('diarias_e_passagens.csv', sep=',', encoding='ISO-8859-1', header=None)"
   ]
  },
  {
   "cell_type": "code",
   "execution_count": 3,
   "metadata": {},
   "outputs": [],
   "source": [
    "dados.columns = 'CARGO NOME SAÍDA CHEGADA DESTINO QUANTIDADE VALOR MOTIVO'.split()"
   ]
  },
  {
   "cell_type": "markdown",
   "metadata": {},
   "source": [
    "### Conversão dos Valores"
   ]
  },
  {
   "cell_type": "code",
   "execution_count": 4,
   "metadata": {},
   "outputs": [],
   "source": [
    "def clear_value(x):    \n",
    "    x = x.replace(',','.')\n",
    "    return float(x)"
   ]
  },
  {
   "cell_type": "code",
   "execution_count": 5,
   "metadata": {},
   "outputs": [],
   "source": [
    "dados['VALOR'] = dados['VALOR'].apply(lambda x: clear_value(x))"
   ]
  },
  {
   "cell_type": "markdown",
   "metadata": {},
   "source": [
    "### Ajuste de Datas"
   ]
  },
  {
   "cell_type": "code",
   "execution_count": 6,
   "metadata": {},
   "outputs": [],
   "source": [
    "def clear_dates(x):\n",
    "    dia = int(x[:2])\n",
    "    mes = int(x[3:5])\n",
    "    ano = int(x[6:10])\n",
    "    \n",
    "    data = datetime(ano, mes, dia)\n",
    "    \n",
    "    return data"
   ]
  },
  {
   "cell_type": "code",
   "execution_count": 7,
   "metadata": {},
   "outputs": [],
   "source": [
    "dados['SAÍDA'] = dados['SAÍDA'].apply(lambda x: clear_dates(x))"
   ]
  },
  {
   "cell_type": "code",
   "execution_count": 8,
   "metadata": {},
   "outputs": [],
   "source": [
    "dados['CHEGADA'] = dados['CHEGADA'].apply(lambda x: clear_dates(x))"
   ]
  },
  {
   "cell_type": "markdown",
   "metadata": {},
   "source": [
    "### Dados agrupados por Cargo"
   ]
  },
  {
   "cell_type": "code",
   "execution_count": 9,
   "metadata": {},
   "outputs": [
    {
     "data": {
      "text/plain": [
       "MOTORISTA                                             895\n",
       "Secretario (a) Mun. de Saude                          297\n",
       "Assessor (a) de Secretaria                            119\n",
       "Continuo                                               66\n",
       "Assessor (a) de Departamento                           55\n",
       "Diretor (a) do Departamento Administrativo             29\n",
       "Coordenador (a) de Gestao de Pessoas                   25\n",
       "CONTADOR (A)                                           18\n",
       "SERVENTE                                               17\n",
       "Assistente Social                                      15\n",
       "Conselheiro Tutelar                                    13\n",
       "Chefe Div. Protocolo e Arguivo Geral                   10\n",
       "Dir do Depto de Almox, Patrimônio e Serv. Gerais       10\n",
       "Assistente Administrativo                               7\n",
       "Diretor do Departamento Contabilidade                   7\n",
       "Secretario Municipal de Ordem Urbana                    5\n",
       "Docente I  Classe B                                     5\n",
       "DIRETOR(A) DEPTO DE CONTR INTERNO                       5\n",
       "Diretor (a) do Departamento de Turismo                  5\n",
       "Dir. Dep. de Tributos                                   4\n",
       "Coordenador de Desenvolvimento Economico                4\n",
       "Secretario (a) Mun. de Financas                         3\n",
       "Docente II  Classe C                                    3\n",
       "Tecnico de Seguranca                                    3\n",
       "Auxiliar Administrativo                                 3\n",
       "Cozinheiro (a)                                          2\n",
       "Psicologo                                               2\n",
       "COORD DE GESTAO ADMINISTRATIVA                          2\n",
       "Dir. Dep. Pessoal e Rec Humanos                         2\n",
       "Ch da Div de Elab de Proj e Captacao de Recursos        2\n",
       "Dir. do Dep. de Licitações                              2\n",
       "Aux Obras e Serv. Publico                               1\n",
       "Coordenador(a) do Fundo Municipal de Saúde              1\n",
       "CH DA DIV DE PROTECAO SOCIAL BASICA E ESPECIAL          1\n",
       "Ch. da Div. de Progr. de Benef. e Transf. de Renda      1\n",
       "Docente III  - Inspetor de Escolar - Classe C           1\n",
       "Dir. do Departamento de Informática                     1\n",
       "Secretário Municipal de Governo                         1\n",
       "DOCENTE III Classe C - Orientador Pedagogico            1\n",
       "Docente II  Classe B                                    1\n",
       "Operador de ETA                                         1\n",
       "Fiscal de Saude                                         1\n",
       "DIR DEPTO DE POLITICAS PUBL EM DIR HUMANOS              1\n",
       "Ch da Div de Rec Humanos, Almox e Patrim                1\n",
       "Name: CARGO, dtype: int64"
      ]
     },
     "execution_count": 9,
     "metadata": {},
     "output_type": "execute_result"
    }
   ],
   "source": [
    "cargos = dados['CARGO'].value_counts()\n",
    "cargos"
   ]
  },
  {
   "cell_type": "markdown",
   "metadata": {},
   "source": [
    "### Quantidade de Motoristas"
   ]
  },
  {
   "cell_type": "code",
   "execution_count": 10,
   "metadata": {},
   "outputs": [
    {
     "data": {
      "text/plain": [
       "18"
      ]
     },
     "execution_count": 10,
     "metadata": {},
     "output_type": "execute_result"
    }
   ],
   "source": [
    "dados[dados['CARGO'] == 'MOTORISTA']['NOME'].nunique()"
   ]
  },
  {
   "cell_type": "markdown",
   "metadata": {},
   "source": [
    "### Quantidade de viagens por motorista"
   ]
  },
  {
   "cell_type": "code",
   "execution_count": 11,
   "metadata": {},
   "outputs": [
    {
     "data": {
      "text/plain": [
       "ARI DA SILVA                        147\n",
       "DARIO DE BRITO                      144\n",
       "LUCIO MAURO RODRIGUES DE SOUSA      132\n",
       "BARBARA MARQUES DA SILVA            125\n",
       "SEBASTIAO BATISTA DE PAULA COSTA    111\n",
       "RONILDO MOREIRA DE AZEVEDO           96\n",
       "JOSE ADALBERTO NOGUEIRA DENEGRI      93\n",
       "ALTAMIR CAMPBELL MOREIRA             23\n",
       "FLAVIO DA COSTA                       7\n",
       "DEYVISON DE ASSIS                     6\n",
       "EDSON BERNARDES PENIDO                3\n",
       "RINALDO VELOSO                        2\n",
       "CLAUDIO LUDUCENE BARBOSA              1\n",
       "VICENTE CAMILO DE OLIVEIRA            1\n",
       "FELIPE RODOLFO AREDES DA SILVA        1\n",
       "MARCO ANTONIO JUNQUEIRA FONSECA       1\n",
       "IVO COSTA MOREIRA                     1\n",
       "ALEXANDRE GARCIA DA SILVA             1\n",
       "Name: NOME, dtype: int64"
      ]
     },
     "execution_count": 11,
     "metadata": {},
     "output_type": "execute_result"
    }
   ],
   "source": [
    "dados[dados['CARGO'] == 'MOTORISTA']['NOME'].value_counts()"
   ]
  },
  {
   "cell_type": "markdown",
   "metadata": {},
   "source": [
    "### Valor total gasto em viajens para o cargo de motorista"
   ]
  },
  {
   "cell_type": "code",
   "execution_count": 12,
   "metadata": {},
   "outputs": [
    {
     "data": {
      "text/plain": [
       "47009.44"
      ]
     },
     "execution_count": 12,
     "metadata": {},
     "output_type": "execute_result"
    }
   ],
   "source": [
    "dados[dados['CARGO'] == 'MOTORISTA']['VALOR'].sum()"
   ]
  },
  {
   "cell_type": "markdown",
   "metadata": {},
   "source": [
    "### Valor total gasto por motorista"
   ]
  },
  {
   "cell_type": "code",
   "execution_count": 13,
   "metadata": {},
   "outputs": [],
   "source": [
    "motoristas = dados[dados['CARGO'] == 'MOTORISTA'].loc[:, ['NOME','VALOR']].groupby('NOME').sum().sort_values(by='VALOR')"
   ]
  },
  {
   "cell_type": "code",
   "execution_count": 14,
   "metadata": {},
   "outputs": [
    {
     "data": {
      "text/html": [
       "<div>\n",
       "<style scoped>\n",
       "    .dataframe tbody tr th:only-of-type {\n",
       "        vertical-align: middle;\n",
       "    }\n",
       "\n",
       "    .dataframe tbody tr th {\n",
       "        vertical-align: top;\n",
       "    }\n",
       "\n",
       "    .dataframe thead th {\n",
       "        text-align: right;\n",
       "    }\n",
       "</style>\n",
       "<table border=\"1\" class=\"dataframe\">\n",
       "  <thead>\n",
       "    <tr style=\"text-align: right;\">\n",
       "      <th></th>\n",
       "      <th>VALOR</th>\n",
       "    </tr>\n",
       "    <tr>\n",
       "      <th>NOME</th>\n",
       "      <th></th>\n",
       "    </tr>\n",
       "  </thead>\n",
       "  <tbody>\n",
       "    <tr>\n",
       "      <th>VICENTE CAMILO DE OLIVEIRA</th>\n",
       "      <td>58.88</td>\n",
       "    </tr>\n",
       "    <tr>\n",
       "      <th>FELIPE RODOLFO AREDES DA SILVA</th>\n",
       "      <td>60.90</td>\n",
       "    </tr>\n",
       "    <tr>\n",
       "      <th>MARCO ANTONIO JUNQUEIRA FONSECA</th>\n",
       "      <td>63.62</td>\n",
       "    </tr>\n",
       "    <tr>\n",
       "      <th>ALEXANDRE GARCIA DA SILVA</th>\n",
       "      <td>76.12</td>\n",
       "    </tr>\n",
       "    <tr>\n",
       "      <th>CLAUDIO LUDUCENE BARBOSA</th>\n",
       "      <td>79.52</td>\n",
       "    </tr>\n",
       "    <tr>\n",
       "      <th>RINALDO VELOSO</th>\n",
       "      <td>108.24</td>\n",
       "    </tr>\n",
       "    <tr>\n",
       "      <th>IVO COSTA MOREIRA</th>\n",
       "      <td>206.08</td>\n",
       "    </tr>\n",
       "    <tr>\n",
       "      <th>EDSON BERNARDES PENIDO</th>\n",
       "      <td>213.14</td>\n",
       "    </tr>\n",
       "    <tr>\n",
       "      <th>FLAVIO DA COSTA</th>\n",
       "      <td>282.21</td>\n",
       "    </tr>\n",
       "    <tr>\n",
       "      <th>DEYVISON DE ASSIS</th>\n",
       "      <td>353.28</td>\n",
       "    </tr>\n",
       "    <tr>\n",
       "      <th>ALTAMIR CAMPBELL MOREIRA</th>\n",
       "      <td>733.52</td>\n",
       "    </tr>\n",
       "    <tr>\n",
       "      <th>JOSE ADALBERTO NOGUEIRA DENEGRI</th>\n",
       "      <td>3512.55</td>\n",
       "    </tr>\n",
       "    <tr>\n",
       "      <th>RONILDO MOREIRA DE AZEVEDO</th>\n",
       "      <td>4512.07</td>\n",
       "    </tr>\n",
       "    <tr>\n",
       "      <th>BARBARA MARQUES DA SILVA</th>\n",
       "      <td>4833.96</td>\n",
       "    </tr>\n",
       "    <tr>\n",
       "      <th>LUCIO MAURO RODRIGUES DE SOUSA</th>\n",
       "      <td>5590.06</td>\n",
       "    </tr>\n",
       "    <tr>\n",
       "      <th>SEBASTIAO BATISTA DE PAULA COSTA</th>\n",
       "      <td>7249.50</td>\n",
       "    </tr>\n",
       "    <tr>\n",
       "      <th>DARIO DE BRITO</th>\n",
       "      <td>8991.33</td>\n",
       "    </tr>\n",
       "    <tr>\n",
       "      <th>ARI DA SILVA</th>\n",
       "      <td>10084.46</td>\n",
       "    </tr>\n",
       "  </tbody>\n",
       "</table>\n",
       "</div>"
      ],
      "text/plain": [
       "                                     VALOR\n",
       "NOME                                      \n",
       "VICENTE CAMILO DE OLIVEIRA           58.88\n",
       "FELIPE RODOLFO AREDES DA SILVA       60.90\n",
       "MARCO ANTONIO JUNQUEIRA FONSECA      63.62\n",
       "ALEXANDRE GARCIA DA SILVA            76.12\n",
       "CLAUDIO LUDUCENE BARBOSA             79.52\n",
       "RINALDO VELOSO                      108.24\n",
       "IVO COSTA MOREIRA                   206.08\n",
       "EDSON BERNARDES PENIDO              213.14\n",
       "FLAVIO DA COSTA                     282.21\n",
       "DEYVISON DE ASSIS                   353.28\n",
       "ALTAMIR CAMPBELL MOREIRA            733.52\n",
       "JOSE ADALBERTO NOGUEIRA DENEGRI    3512.55\n",
       "RONILDO MOREIRA DE AZEVEDO         4512.07\n",
       "BARBARA MARQUES DA SILVA           4833.96\n",
       "LUCIO MAURO RODRIGUES DE SOUSA     5590.06\n",
       "SEBASTIAO BATISTA DE PAULA COSTA   7249.50\n",
       "DARIO DE BRITO                     8991.33\n",
       "ARI DA SILVA                      10084.46"
      ]
     },
     "execution_count": 14,
     "metadata": {},
     "output_type": "execute_result"
    }
   ],
   "source": [
    "motoristas"
   ]
  },
  {
   "cell_type": "markdown",
   "metadata": {},
   "source": [
    "### Valores gastos por Cargo"
   ]
  },
  {
   "cell_type": "code",
   "execution_count": 15,
   "metadata": {},
   "outputs": [],
   "source": [
    "gastos = dados.groupby('CARGO')['VALOR'].sum().sort_values()"
   ]
  },
  {
   "cell_type": "code",
   "execution_count": 16,
   "metadata": {},
   "outputs": [
    {
     "data": {
      "text/plain": [
       "CARGO\n",
       "CH DA DIV DE PROTECAO SOCIAL BASICA E ESPECIAL           30.45\n",
       "Docente II  Classe B                                     30.45\n",
       "Aux Obras e Serv. Publico                                58.88\n",
       "Dir. Dep. Pessoal e Rec Humanos                          58.88\n",
       "Dir. do Departamento de Informática                      58.88\n",
       "DIR DEPTO DE POLITICAS PUBL EM DIR HUMANOS               60.90\n",
       "Ch da Div de Rec Humanos, Almox e Patrim                 60.90\n",
       "Ch. da Div. de Progr. de Benef. e Transf. de Renda       60.90\n",
       "Coordenador(a) do Fundo Municipal de Saúde               63.62\n",
       "Fiscal de Saude                                          63.62\n",
       "Secretário Municipal de Governo                          76.12\n",
       "Operador de ETA                                          76.12\n",
       "Docente III  - Inspetor de Escolar - Classe C            76.12\n",
       "DOCENTE III Classe C - Orientador Pedagogico            106.57\n",
       "Auxiliar Administrativo                                 135.00\n",
       "Psicologo                                               152.24\n",
       "Docente II  Classe C                                    182.70\n",
       "Ch da Div de Elab de Proj e Captacao de Recursos        190.86\n",
       "Tecnico de Seguranca                                    213.14\n",
       "Coordenador de Desenvolvimento Economico                243.60\n",
       "Secretario (a) Mun. de Financas                         259.69\n",
       "Cozinheiro (a)                                          270.60\n",
       "DIRETOR(A) DEPTO DE CONTR INTERNO                       278.48\n",
       "Docente I  Classe B                                     289.26\n",
       "Secretario Municipal de Ordem Urbana                    304.50\n",
       "Diretor (a) do Departamento de Turismo                  304.50\n",
       "COORD DE GESTAO ADMINISTRATIVA                          441.60\n",
       "Dir. do Dep. de Licitações                              441.60\n",
       "Diretor do Departamento Contabilidade                   473.35\n",
       "Chefe Div. Protocolo e Arguivo Geral                    541.20\n",
       "Dir. Dep. de Tributos                                   541.20\n",
       "Conselheiro Tutelar                                     585.33\n",
       "Dir do Depto de Almox, Patrimônio e Serv. Gerais        741.04\n",
       "SERVENTE                                                912.64\n",
       "Assistente Administrativo                               925.34\n",
       "Assistente Social                                      1035.26\n",
       "CONTADOR (A)                                           1334.16\n",
       "Coordenador (a) de Gestao de Pessoas                   1526.25\n",
       "Diretor (a) do Departamento Administrativo             1766.32\n",
       "Assessor (a) de Departamento                           3513.12\n",
       "Continuo                                               3756.83\n",
       "Assessor (a) de Secretaria                             7700.08\n",
       "Secretario (a) Mun. de Saude                          15956.48\n",
       "MOTORISTA                                             47009.44\n",
       "Name: VALOR, dtype: float64"
      ]
     },
     "execution_count": 16,
     "metadata": {},
     "output_type": "execute_result"
    }
   ],
   "source": [
    "gastos"
   ]
  },
  {
   "cell_type": "markdown",
   "metadata": {},
   "source": [
    "### Valor Total"
   ]
  },
  {
   "cell_type": "code",
   "execution_count": 17,
   "metadata": {},
   "outputs": [
    {
     "data": {
      "text/plain": [
       "92908.22"
      ]
     },
     "execution_count": 17,
     "metadata": {},
     "output_type": "execute_result"
    }
   ],
   "source": [
    "dados['VALOR'].sum()"
   ]
  },
  {
   "cell_type": "markdown",
   "metadata": {},
   "source": [
    "# Análise das datas"
   ]
  },
  {
   "cell_type": "markdown",
   "metadata": {},
   "source": [
    "### Gastos por ano"
   ]
  },
  {
   "cell_type": "code",
   "execution_count": 18,
   "metadata": {},
   "outputs": [],
   "source": [
    "gastos_2016 = dados[(dados['SAÍDA'] >= datetime(2016, 1, 1)) & (dados['SAÍDA'] <= datetime(2016, 12, 31))]\n",
    "gastos_2017 = dados[(dados['SAÍDA'] >= datetime(2017, 1, 1)) & (dados['SAÍDA'] <= datetime(2017, 12, 31))]\n",
    "gastos_2018 = dados[(dados['SAÍDA'] >= datetime(2018, 1, 1)) & (dados['SAÍDA'] <= datetime(2018, 12, 31))]\n",
    "gastos_2019 = dados[(dados['SAÍDA'] >= datetime(2019, 1, 1)) & (dados['SAÍDA'] <= datetime(2019, 12, 31))]\n",
    "gastos_2020 = dados[(dados['SAÍDA'] >= datetime(2020, 1, 1)) & (dados['SAÍDA'] <= datetime(2020, 12, 31))]"
   ]
  },
  {
   "cell_type": "code",
   "execution_count": 19,
   "metadata": {},
   "outputs": [
    {
     "name": "stdout",
     "output_type": "stream",
     "text": [
      "Gastos com Passagens e Diárias em 2016 R$  4302.54\n",
      "Gastos com Passagens e Diárias em 2017 R$  0.0\n",
      "Gastos com Passagens e Diárias em 2018 R$  26042.200000000004\n",
      "Gastos com Passagens e Diárias em 2019 R$  46992.67\n",
      "Gastos com Passagens e Diárias em 2020 R$  15570.810000000001\n",
      "\n",
      "Total: R$  92908.22\n"
     ]
    }
   ],
   "source": [
    "print('Gastos com Passagens e Diárias em 2016 R$ ', gastos_2016['VALOR'].sum())\n",
    "print('Gastos com Passagens e Diárias em 2017 R$ ', gastos_2017['VALOR'].sum())\n",
    "print('Gastos com Passagens e Diárias em 2018 R$ ', gastos_2018['VALOR'].sum())\n",
    "print('Gastos com Passagens e Diárias em 2019 R$ ', gastos_2019['VALOR'].sum())\n",
    "print('Gastos com Passagens e Diárias em 2020 R$ ', gastos_2020['VALOR'].sum())\n",
    "\n",
    "print(\"\\nTotal: R$ \", dados['VALOR'].sum())"
   ]
  },
  {
   "cell_type": "markdown",
   "metadata": {},
   "source": [
    "## Gastos por ano e cargo"
   ]
  },
  {
   "cell_type": "markdown",
   "metadata": {},
   "source": [
    "### 2016"
   ]
  },
  {
   "cell_type": "code",
   "execution_count": 20,
   "metadata": {},
   "outputs": [
    {
     "data": {
      "text/plain": [
       "CARGO\n",
       "Assistente Administrativo                270.60\n",
       "Cozinheiro (a)                           270.60\n",
       "Chefe Div. Protocolo e Arguivo Geral     541.20\n",
       "Assessor (a) de Secretaria               541.20\n",
       "Dir. Dep. de Tributos                    541.20\n",
       "MOTORISTA                               2137.74\n",
       "Name: VALOR, dtype: float64"
      ]
     },
     "execution_count": 20,
     "metadata": {},
     "output_type": "execute_result"
    }
   ],
   "source": [
    "resumo_2016 = gastos_2016.groupby('CARGO')['VALOR'].sum().sort_values()\n",
    "resumo_2016"
   ]
  },
  {
   "cell_type": "markdown",
   "metadata": {},
   "source": [
    "### 2017"
   ]
  },
  {
   "cell_type": "code",
   "execution_count": 21,
   "metadata": {},
   "outputs": [
    {
     "data": {
      "text/plain": [
       "Series([], Name: VALOR, dtype: float64)"
      ]
     },
     "execution_count": 21,
     "metadata": {},
     "output_type": "execute_result"
    }
   ],
   "source": [
    "resumo_2017 = gastos_2017.groupby('CARGO')['VALOR'].sum().sort_values()\n",
    "resumo_2017"
   ]
  },
  {
   "cell_type": "markdown",
   "metadata": {},
   "source": [
    "### 2018"
   ]
  },
  {
   "cell_type": "code",
   "execution_count": 22,
   "metadata": {},
   "outputs": [
    {
     "data": {
      "text/plain": [
       "CARGO\n",
       "DIRETOR(A) DEPTO DE CONTR INTERNO                      29.44\n",
       "Diretor do Departamento Contabilidade                  58.88\n",
       "Dir. do Departamento de Informática                    58.88\n",
       "Aux Obras e Serv. Publico                              58.88\n",
       "Auxiliar Administrativo                                58.88\n",
       "Dir. Dep. Pessoal e Rec Humanos                        58.88\n",
       "Secretario (a) Mun. de Financas                        73.60\n",
       "Assessor (a) de Departamento                          294.40\n",
       "COORD DE GESTAO ADMINISTRATIVA                        441.60\n",
       "CONTADOR (A)                                          441.60\n",
       "Dir. do Dep. de Licitações                            441.60\n",
       "Assistente Administrativo                             441.60\n",
       "Dir do Depto de Almox, Patrimônio e Serv. Gerais      588.80\n",
       "MOTORISTA                                             618.24\n",
       "SERVENTE                                              912.64\n",
       "Assessor (a) de Secretaria                           1077.08\n",
       "Coordenador (a) de Gestao de Pessoas                 1221.76\n",
       "Diretor (a) do Departamento Administrativo           1324.80\n",
       "Continuo                                             1884.16\n",
       "Secretario (a) Mun. de Saude                        15956.48\n",
       "Name: VALOR, dtype: float64"
      ]
     },
     "execution_count": 22,
     "metadata": {},
     "output_type": "execute_result"
    }
   ],
   "source": [
    "resumo_2018 = gastos_2018.groupby('CARGO')['VALOR'].sum().sort_values()\n",
    "resumo_2018"
   ]
  },
  {
   "cell_type": "markdown",
   "metadata": {},
   "source": [
    "### 2019"
   ]
  },
  {
   "cell_type": "code",
   "execution_count": 23,
   "metadata": {},
   "outputs": [
    {
     "data": {
      "text/plain": [
       "CARGO\n",
       "CH DA DIV DE PROTECAO SOCIAL BASICA E ESPECIAL           30.45\n",
       "Docente II  Classe B                                     30.45\n",
       "Ch da Div de Rec Humanos, Almox e Patrim                 60.90\n",
       "Ch. da Div. de Progr. de Benef. e Transf. de Renda       60.90\n",
       "DIR DEPTO DE POLITICAS PUBL EM DIR HUMANOS               60.90\n",
       "Operador de ETA                                          76.12\n",
       "Auxiliar Administrativo                                  76.12\n",
       "Docente III  - Inspetor de Escolar - Classe C            76.12\n",
       "Secretário Municipal de Governo                          76.12\n",
       "DOCENTE III Classe C - Orientador Pedagogico            106.57\n",
       "Secretario (a) Mun. de Financas                         106.57\n",
       "DIRETOR(A) DEPTO DE CONTR INTERNO                       121.80\n",
       "Psicologo                                               152.24\n",
       "Dir do Depto de Almox, Patrimônio e Serv. Gerais        152.24\n",
       "Docente II  Classe C                                    182.70\n",
       "Tecnico de Seguranca                                    213.14\n",
       "Assistente Administrativo                               213.14\n",
       "Coordenador de Desenvolvimento Economico                243.60\n",
       "Docente I  Classe B                                     289.26\n",
       "Coordenador (a) de Gestao de Pessoas                    304.49\n",
       "Diretor (a) do Departamento de Turismo                  304.50\n",
       "Secretario Municipal de Ordem Urbana                    304.50\n",
       "Diretor do Departamento Contabilidade                   334.95\n",
       "Conselheiro Tutelar                                     426.29\n",
       "Diretor (a) do Departamento Administrativo              441.52\n",
       "CONTADOR (A)                                            669.90\n",
       "Assistente Social                                      1035.26\n",
       "Continuo                                               1872.67\n",
       "Assessor (a) de Departamento                           2805.20\n",
       "Assessor (a) de Secretaria                             4491.31\n",
       "MOTORISTA                                             31672.74\n",
       "Name: VALOR, dtype: float64"
      ]
     },
     "execution_count": 23,
     "metadata": {},
     "output_type": "execute_result"
    }
   ],
   "source": [
    "resumo_2019 = gastos_2019.groupby('CARGO')['VALOR'].sum().sort_values()\n",
    "resumo_2019"
   ]
  },
  {
   "cell_type": "markdown",
   "metadata": {},
   "source": [
    "### 2020"
   ]
  },
  {
   "cell_type": "code",
   "execution_count": 24,
   "metadata": {},
   "outputs": [
    {
     "data": {
      "text/plain": [
       "CARGO\n",
       "Coordenador(a) do Fundo Municipal de Saúde             63.62\n",
       "Fiscal de Saude                                        63.62\n",
       "Diretor do Departamento Contabilidade                  79.52\n",
       "Secretario (a) Mun. de Financas                        79.52\n",
       "DIRETOR(A) DEPTO DE CONTR INTERNO                     127.24\n",
       "Conselheiro Tutelar                                   159.04\n",
       "Ch da Div de Elab de Proj e Captacao de Recursos      190.86\n",
       "CONTADOR (A)                                          222.66\n",
       "Assessor (a) de Departamento                          413.52\n",
       "Assessor (a) de Secretaria                           1590.49\n",
       "MOTORISTA                                           12580.72\n",
       "Name: VALOR, dtype: float64"
      ]
     },
     "execution_count": 24,
     "metadata": {},
     "output_type": "execute_result"
    }
   ],
   "source": [
    "resumo_2020 = gastos_2020.groupby('CARGO')['VALOR'].sum().sort_values()\n",
    "resumo_2020"
   ]
  },
  {
   "cell_type": "code",
   "execution_count": 25,
   "metadata": {},
   "outputs": [],
   "source": [
    "from matplotlib import pyplot as plt"
   ]
  },
  {
   "cell_type": "code",
   "execution_count": 26,
   "metadata": {},
   "outputs": [
    {
     "data": {
      "text/plain": [
       "<BarContainer object of 5 artists>"
      ]
     },
     "execution_count": 26,
     "metadata": {},
     "output_type": "execute_result"
    },
    {
     "data": {
      "image/png": "[encoded data removed]",
      "text/plain": [
       "<Figure size 432x288 with 1 Axes>"
      ]
     },
     "metadata": {
      "needs_background": "light"
     },
     "output_type": "display_data"
    }
   ],
   "source": [
    "x = np.arange(5)\n",
    "anos = [\n",
    "    gastos_2016['VALOR'].sum(),\n",
    "    gastos_2017['VALOR'].sum(),\n",
    "    gastos_2018['VALOR'].sum(),\n",
    "    gastos_2019['VALOR'].sum(),\n",
    "    gastos_2020['VALOR'].sum(),\n",
    "]\n",
    "\n",
    "plt.title('Gastos anuais com Passagens e Diárias')\n",
    "plt.ylabel('Valores')\n",
    "plt.xlabel('Anos')\n",
    "plt.xticks(x, ('2016','2017','2018','2019','2020'))\n",
    "plt.bar(x, anos)"
   ]
  }
 ],
 "metadata": {
  "kernelspec": {
   "display_name": "Python 3",
   "language": "python",
   "name": "python3"
  },
  "language_info": {
   "codemirror_mode": {
    "name": "ipython",
    "version": 3
   },
   "file_extension": ".py",
   "mimetype": "text/x-python",
   "name": "python",
   "nbconvert_exporter": "python",
   "pygments_lexer": "ipython3",
   "version": "3.7.3"
  }
 },
 "nbformat": 4,
 "nbformat_minor": 4
}
